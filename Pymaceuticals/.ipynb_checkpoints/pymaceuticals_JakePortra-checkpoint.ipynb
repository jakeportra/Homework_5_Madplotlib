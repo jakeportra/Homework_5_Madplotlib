{
 "cells": [
  {
   "cell_type": "markdown",
   "metadata": {},
   "source": [
    "## Observations and Insights"
   ]
  },
  {
   "cell_type": "markdown",
   "metadata": {},
   "source": []
  },
  {
   "cell_type": "markdown",
   "metadata": {},
   "source": [
    "## Dependencies and starter code"
   ]
  },
  {
   "cell_type": "code",
   "execution_count": null,
   "metadata": {},
   "outputs": [],
   "source": [
    "# Dependencies and Setup\n",
    "import matplotlib.pyplot as plt\n",
    "import pandas as pd\n",
    "import scipy.stats as st\n",
    "import numpy as np\n",
    "from scipy.stats import linregress\n",
    "\n",
    "# Study data files\n",
    "mouse_metadata = \"data/Mouse_metadata.csv\"\n",
    "study_results = \"data/Study_results.csv\"\n",
    "\n",
    "# Read the mouse data and the study results\n",
    "mouse_metadata = pd.read_csv(mouse_metadata)\n",
    "study_results = pd.read_csv(study_results)\n",
    "\n",
    "# Combine the data into a single dataset\n",
    "master_data = pd.merge(mouse_metadata, study_results, on=\"Mouse ID\")\n",
    "master_data.head()"
   ]
  },
  {
   "cell_type": "markdown",
   "metadata": {},
   "source": [
    "## Summary statistics"
   ]
  },
  {
   "cell_type": "code",
   "execution_count": null,
   "metadata": {},
   "outputs": [],
   "source": [
    "# Generate a summary statistics table of mean, median, variance, standard deviation, and SEM of the tumor volume for each regimen\n",
    "\n",
    "tumor_volume = master_data[\"Tumor Volume (mm3)\"]\n",
    "\n",
    "#create list of all the drugs\n",
    "drugs = master_data[\"Drug Regimen\"].unique()\n",
    "\n",
    "#create separate dataframe for each drug\n",
    "ramicane = master_data[master_data[\"Drug Regimen\"]==\"Ramicane\"][\"Tumor Volume (mm3)\"]\n",
    "capomulin = master_data[master_data[\"Drug Regimen\"]==\"Capomulin\"][\"Tumor Volume (mm3)\"]\n",
    "infubinol = master_data[master_data[\"Drug Regimen\"]==\"Infubinol\"][\"Tumor Volume (mm3)\"]\n",
    "placebo = master_data[master_data[\"Drug Regimen\"]==\"Placebo\"][\"Tumor Volume (mm3)\"]\n",
    "ceftamin = master_data[master_data[\"Drug Regimen\"]==\"Ceftamin\"][\"Tumor Volume (mm3)\"]\n",
    "stelasyn = master_data[master_data[\"Drug Regimen\"]==\"Stelasyn\"][\"Tumor Volume (mm3)\"]\n",
    "zoniferol = master_data[master_data[\"Drug Regimen\"]==\"Zoniferol\"][\"Tumor Volume (mm3)\"]\n",
    "ketapril = master_data[master_data[\"Drug Regimen\"]==\"Ketapril\"][\"Tumor Volume (mm3)\"]\n",
    "propriva = master_data[master_data[\"Drug Regimen\"]==\"Propriva\"][\"Tumor Volume (mm3)\"]\n",
    "naftisol = master_data[master_data[\"Drug Regimen\"]==\"Naftisol\"][\"Tumor Volume (mm3)\"]\n",
    "\n",
    "#calculate variance and standard deviation\n",
    "\n",
    "var_ramicane = np.var(ramicane,ddof = 0)\n",
    "var_capomulin = np.var(capomulin,ddof = 0)\n",
    "var_infubinol = np.var(infubinol,ddof = 0)\n",
    "var_placebo = np.var(placebo,ddof = 0)\n",
    "var_ceftamin = np.var(ceftamin,ddof = 0)\n",
    "var_stelasyn = np.var(stelasyn,ddof = 0)\n",
    "var_zoniferol = np.var(zoniferol,ddof = 0)\n",
    "var_ketapril = np.var(ketapril,ddof = 0)\n",
    "var_propriva = np.var(propriva,ddof = 0)\n",
    "var_naftisol = np.var(naftisol,ddof = 0)\n",
    "\n",
    "sd_ramicane = np.std(ramicane,ddof = 0)\n",
    "sd_capomulin = np.std(capomulin,ddof = 0)\n",
    "sd_infubinol = np.std(infubinol,ddof = 0)\n",
    "sd_placebo = np.std(placebo,ddof = 0)\n",
    "sd_ceftamin = np.std(ceftamin,ddof = 0)\n",
    "sd_stelasyn = np.std(stelasyn,ddof = 0)\n",
    "sd_zoniferol = np.std(zoniferol,ddof = 0)\n",
    "sd_ketapril = np.std(ketapril,ddof = 0)\n",
    "sd_propriva = np.std(propriva,ddof = 0)\n",
    "sd_naftisol = np.std(naftisol,ddof = 0)\n",
    "\n",
    "#build summary table as dataframe\n",
    "summary_table = pd.DataFrame({\"Drug Regimen\": ['Ramicane', 'Capomulin', 'Infubinol', 'Placebo', 'Ceftamin','Stelasyn', 'Zoniferol', 'Ketapril', 'Propriva', 'Naftisol'], \n",
    "                             \"Mean Tumor Volume (mm3)\": [ramicane.mean(), capomulin.mean(), infubinol.mean(), placebo.mean(), ceftamin.mean(), stelasyn.mean(), zoniferol.mean(), ketapril.mean(), propriva.mean(), naftisol.mean()],\n",
    "                            \"Median Tumor Volume (mm3)\": [ramicane.median(), capomulin.median(), infubinol.median(), placebo.median(), ceftamin.median(), stelasyn.median(), zoniferol.median(), ketapril.median(), propriva.median(), naftisol.median()],\n",
    "                             \"Standard Deviation\": [sd_ramicane, sd_capomulin, sd_infubinol, sd_placebo, sd_ceftamin, sd_stelasyn, sd_zoniferol, sd_ketapril, sd_propriva, sd_naftisol],\n",
    "                             \"Variance\": [var_ramicane, var_capomulin, var_infubinol, var_placebo, var_ceftamin, var_stelasyn, var_zoniferol, var_ketapril, var_propriva, var_naftisol]\n",
    "                             })\n",
    "\n",
    "summary_table"
   ]
  },
  {
   "cell_type": "markdown",
   "metadata": {},
   "source": [
    "## Bar plots"
   ]
  },
  {
   "cell_type": "code",
   "execution_count": null,
   "metadata": {},
   "outputs": [],
   "source": [
    "num_data = [ramicane.count(), capomulin.count(), infubinol.count(), placebo.count(), ceftamin.count(), stelasyn.count(), zoniferol.count(), ketapril.count(), propriva.count(), naftisol.count()]\n",
    "x_axis = np.arange(len(num_data))\n",
    "\n",
    "tick_locations = [value for value in x_axis]\n",
    "plt.xticks(tick_locations, ['Ramicane', 'Capomulin', 'Infubinol', 'Placebo', 'Ceftamin','Stelasyn', 'Zoniferol', 'Ketapril', 'Propriva', 'Naftisol'], rotation=\"vertical\")"
   ]
  },
  {
   "cell_type": "code",
   "execution_count": null,
   "metadata": {},
   "outputs": [],
   "source": [
    "# Generate a bar plot showing number of data points for each treatment regimen using pandas\n",
    "\n",
    "plt.figure(figsize=(20,3))\n",
    "plt.bar(x_axis, num_data, color='r', alpha=0.5, align=\"center\")\n",
    "plt.xticks(tick_locations, drugs, rotation=\"vertical\")\n",
    "\n",
    "plt.title(\"Sample Size by Drug Regimen\")\n",
    "plt.xlabel(\"Drug Regimen\")\n",
    "plt.ylabel(\"Number of Test Subjects\")"
   ]
  },
  {
   "cell_type": "code",
   "execution_count": null,
   "metadata": {},
   "outputs": [],
   "source": [
    "# Generate a bar plot showing number of data points for each treatment regimen using pyplot\n",
    "\n",
    "plt.bar(x_axis, num_data, align=\"center\")\n",
    "\n",
    "plt.title(\"Sample Size by Drug Regimen\")\n",
    "plt.xlabel(\"Drug Regimen\")\n",
    "plt.ylabel(\"Number of Test Subjects\")"
   ]
  },
  {
   "cell_type": "markdown",
   "metadata": {},
   "source": [
    "## Pie plots"
   ]
  },
  {
   "cell_type": "code",
   "execution_count": null,
   "metadata": {},
   "outputs": [],
   "source": [
    "male = master_data[master_data[\"Sex\"]==\"Male\"].count()[\"Mouse ID\"]\n",
    "female = master_data[master_data[\"Sex\"]==\"Female\"].count()[\"Mouse ID\"]\n",
    "total = male + female\n",
    "\n",
    "print(f\"There are {female} female and {male} male mice out of the total population of {total}.\")"
   ]
  },
  {
   "cell_type": "code",
   "execution_count": null,
   "metadata": {},
   "outputs": [],
   "source": [
    "# Generate a pie plot showing the distribution of female versus male mice using pyplot\n",
    "sexes = [958, 935]\n",
    "labels = [\"Male\", \"Female\"]\n",
    "colors = [\"red\", \"lightskyblue\"]\n",
    "explode = (0.1, 0)\n",
    "\n",
    "plt.pie(sexes, explode=explode, labels=labels, colors=colors, autopct=\"%1.1f%%\", shadow=False, startangle=140)\n",
    "\n",
    "plt.axis(\"equal\")\n",
    "\n",
    "plt.title(\"Distribution of Male vs. Female\")\n"
   ]
  },
  {
   "cell_type": "markdown",
   "metadata": {},
   "source": [
    "## Quartiles, outliers and boxplots"
   ]
  },
  {
   "cell_type": "code",
   "execution_count": null,
   "metadata": {
    "scrolled": true
   },
   "outputs": [],
   "source": [
    "# Calculate the final tumor volume of each mouse across four of the most promising treatment regimens. Calculate the IQR and quantitatively determine if there are any potential outliers. \n",
    "\n",
    "#create separate dataframe by regimen\n",
    "ramicane_df = master_data[master_data[\"Drug Regimen\"]==\"Ramicane\"]\n",
    "capomulin_df = master_data[master_data[\"Drug Regimen\"]==\"Capomulin\"]\n",
    "infubinol_df = master_data[master_data[\"Drug Regimen\"]==\"Infubinol\"]\n",
    "ceftamin_df = master_data[master_data[\"Drug Regimen\"]==\"Ceftamin\"]\n",
    "\n",
    "#return tumor volume for only the final timepoint\n",
    "ram_final = pd.DataFrame(ramicane_df[ramicane_df[\"Timepoint\"]==45][\"Tumor Volume (mm3)\"])\n",
    "cap_final = pd.DataFrame(capomulin_df[capomulin_df[\"Timepoint\"]==45][\"Tumor Volume (mm3)\"])\n",
    "inf_final = pd.DataFrame(infubinol_df[infubinol_df[\"Timepoint\"]==45][\"Tumor Volume (mm3)\"])\n",
    "cef_final = pd.DataFrame(ceftamin_df[ceftamin_df[\"Timepoint\"]==45][\"Tumor Volume (mm3)\"])\n",
    "\n",
    "#combine into one dataframe\n",
    "final_df = pd.DataFrame({\"index\": [\" \"],\n",
    "                         \"Tumor Volume (mm3)\": [\" \"]})\n",
    "final_df.append(ram_final, ignore_index=True)\n",
    "final_df.append(cap_final, ignore_index=True)\n",
    "final_df.append(inf_final, ignore_index=True)\n",
    "final_df.append(cef_final, ignore_index=True)\n"
   ]
  },
  {
   "cell_type": "code",
   "execution_count": null,
   "metadata": {},
   "outputs": [],
   "source": [
    "# Generate a box plot of the final tumor volume of each mouse across four regimens of interest"
   ]
  },
  {
   "cell_type": "markdown",
   "metadata": {},
   "source": [
    "## Line and scatter plots"
   ]
  },
  {
   "cell_type": "code",
   "execution_count": null,
   "metadata": {},
   "outputs": [],
   "source": [
    "# Generate a line plot of time point versus tumor volume for a mouse treated with Capomulin\n",
    "\n",
    "#create dataframe of only capomulin subjects\n",
    "capomulin_df = master_data[master_data[\"Drug Regimen\"]==\"Capomulin\"]\n",
    "\n",
    "#create dataframe of only subject s185 from capomulin dataframe\n",
    "capomulin_s185 = capomulin_df[capomulin_df[\"Mouse ID\"]==\"s185\"]\n",
    "\n",
    "#create lists of timepoint and tumor volume from the s185 dataframe\n",
    "s185_time = capomulin_s185[\"Timepoint\"]\n",
    "s185_tv = capomulin_s185[\"Tumor Volume (mm3)\"]\n",
    "\n",
    "#plot the results\n",
    "s185_plot = plt.plot(s185_time, s185_tv, marker=\"o\", label=\"Test Subject s185\")\n",
    "\n",
    "#label and add legend\n",
    "plt.legend(loc=\"lower left\")\n",
    "plt.title(\"Time vs. Tumor Volume\")\n",
    "plt.xlabel(\"Time\")\n",
    "plt.ylabel(\"Tumor Volume\")\n",
    "\n",
    "plt.show()"
   ]
  },
  {
   "cell_type": "code",
   "execution_count": null,
   "metadata": {},
   "outputs": [],
   "source": [
    "# Generate a scatter plot of mouse weight versus average tumor volume for the Capomulin regimen\n",
    "\n",
    "#create dataframes of only capomulin subjects by Mouse ID and Tumor Volume\n",
    "capomulin_id = master_data[master_data[\"Drug Regimen\"]==\"Capomulin\"][\"Mouse ID\"]\n",
    "capomulin_tv =  master_data[master_data[\"Drug Regimen\"]==\"Capomulin\"][\"Tumor Volume (mm3)\"]\n",
    "capomulin_weight = master_data[master_data[\"Drug Regimen\"]==\"Capomulin\"][\"Weight (g)\"]\n",
    "\n",
    "#merge into one dataframe\n",
    "tv_df = pd.merge(capomulin_id, capomulin_tv, left_index=True, right_index=True)\n",
    "weight_df = pd.merge(capomulin_id, capomulin_weight, left_index=True, right_index=True)\n",
    "\n",
    "#find average for each Mouse using grouby\n",
    "grouped_tv = tv_df.groupby([\"Mouse ID\"]).mean()\n",
    "grouped_weight = weight_df.groupby([\"Mouse ID\"]).mean()\n",
    "\n",
    "#plot average Tumor Volume for each mouse\n",
    "weight = grouped_weight[\"Weight (g)\"]\n",
    "tumor_volume = grouped_tv[\"Tumor Volume (mm3)\"]\n",
    "\n",
    "plt.scatter(weight, tumor_volume, marker=\"o\", )\n",
    "\n",
    "#add labels\n",
    "plt.title(\"Mouse Weight vs. Avg Tumor Volume\")\n",
    "plt.xlabel(\"Mouse Weight\")\n",
    "plt.ylabel(\"Avg Tumor Volume\")\n",
    "\n",
    "#add linear regression model for mouse weight and average tumor volume for the Capomulin regimen\n",
    "(slope, intercept, rvalue, pvalue, stderr) = linregress(weight, tumor_volume)\n",
    "tumor_volume = weight * slope + intercept\n",
    "line_eq = \"y = \" + str(round(slope,2)) + \"x + \" + str(round(intercept,2))\n",
    "plt.plot(weight,tumor_volume,\"r-\")\n",
    "#plt.annotate(line_eq,(6,10),fontsize=15,color=\"red\")\n",
    "\n",
    "plt.show()"
   ]
  },
  {
   "cell_type": "code",
   "execution_count": null,
   "metadata": {},
   "outputs": [],
   "source": [
    "# Calculate the correlation coefficient \n",
    "print(f\"The correlation coefficient between mouse weight and average tumor volume is {round(st.pearsonr(weight,tumor_volume)[0],2)}.\")\n",
    "\n"
   ]
  },
  {
   "cell_type": "code",
   "execution_count": null,
   "metadata": {},
   "outputs": [],
   "source": []
  }
 ],
 "metadata": {
  "anaconda-cloud": {},
  "kernelspec": {
   "display_name": "Python 3",
   "language": "python",
   "name": "python3"
  },
  "language_info": {
   "codemirror_mode": {
    "name": "ipython",
    "version": 3
   },
   "file_extension": ".py",
   "mimetype": "text/x-python",
   "name": "python",
   "nbconvert_exporter": "python",
   "pygments_lexer": "ipython3",
   "version": "3.6.9"
  }
 },
 "nbformat": 4,
 "nbformat_minor": 2
}
